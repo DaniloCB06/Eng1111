{
  "nbformat": 4,
  "nbformat_minor": 0,
  "metadata": {
    "colab": {
      "provenance": [],
      "collapsed_sections": [],
      "mount_file_id": "10dYKEXD70NNphxrzWO77L95PbNTQMTN8",
      "authorship_tag": "ABX9TyNv1qq7jsprG+U/y3y+mDBl",
      "include_colab_link": true
    },
    "kernelspec": {
      "name": "python3",
      "display_name": "Python 3"
    },
    "language_info": {
      "name": "python"
    }
  },
  "cells": [
    {
      "cell_type": "markdown",
      "metadata": {
        "id": "view-in-github",
        "colab_type": "text"
      },
      "source": [
        "<a href=\"https://colab.research.google.com/github/DaniloCB06/Eng1111/blob/main/lista3.ipynb\" target=\"_parent\"><img src=\"https://colab.research.google.com/assets/colab-badge.svg\" alt=\"Open In Colab\"/></a>"
      ]
    },
    {
      "cell_type": "code",
      "execution_count": null,
      "metadata": {
        "colab": {
          "base_uri": "https://localhost:8080/"
        },
        "id": "zIUmqZJA0MxU",
        "outputId": "77916f32-48ce-4fe2-ec52-0f605e8e543a"
      },
      "outputs": [
        {
          "output_type": "stream",
          "name": "stdout",
          "text": [
            "Drive already mounted at /drive; to attempt to forcibly remount, call drive.mount(\"/drive\", force_remount=True).\n"
          ]
        }
      ],
      "source": [
        "import pandas as pd\n",
        "from google.colab import drive\n",
        "import random\n",
        "import numpy as np\n",
        "import json\n",
        "import pickle\n",
        "\n",
        "#1)\n",
        "drive.mount('/drive')\n",
        "dataframe = pd.read_csv('/drive/MyDrive/pratica1 - classificacao/diabetes/diabetes.csv')\n",
        "#2)\n",
        "#display(dataframe.info())\n",
        "#3)\n",
        "#display(dataframe)\n",
        "novo = dataframe.drop(dataframe.loc[dataframe[\"'preg'\"] == 0 ].index)\n",
        "#display(novo)\n",
        "\n",
        "#4)\n",
        "media = novo[\"'preg'\"].mean()\n",
        "#print(media)\n",
        "#5)\n",
        "#critério = todos os valores que são maiores que media + 3, terão suas linhas removidas do dataframe (valores inferiores a media foram descartados)\n",
        "novo2 = dataframe.drop(dataframe.loc[dataframe[\"'preg'\"] > media + 3].index)\n",
        "#display(novo2)\n",
        "\n",
        "#6)\n",
        "#print(novo2.info())\n",
        "novo3 = novo2.drop([\"'mass'\",\"'pedi'\",\"'age'\",\"'class'\"],axis=1)\n",
        "#display(novo3)\n",
        "\n",
        "#7)\n",
        "numero = random.uniform(0,1)\n",
        "#print(numero)\n",
        "coluna1 = novo3[\"'preg'\"]\n",
        "coluna2 = novo3[\"'plas'\"]\n",
        "novo3.insert(1,\"'resul'\",((coluna1 - coluna2)*numero).astype(int))\n",
        "#display(novo3)\n",
        "\n",
        "#8)\n",
        "novo4 = novo3.reindex(np.random.permutation(novo3.index))\n",
        "#display(novo4)\n",
        "\n",
        "#9)\n",
        "#critério = indices ordenados de 0 a len(novo4) - 1 / as colunas 'preg' e 'resul' ordenadas do maior para o menor.\n",
        "novo5 = novo4.sort_values(by=[\"'preg'\",\"'resul'\"],ascending = False,ignore_index = True)\n",
        "#display(novo5)\n",
        "\n",
        "#10)\n",
        "#display(dataframe)\n",
        "totalstring = dataframe.groupby(\"'class'\")[[\"'class'\"]].count()\n",
        "totalnumero = dataframe.groupby(\"'preg'\")[[\"'preg'\"]].count()\n",
        "#print(totalstring) \n",
        "#print(totalnumero) \n",
        "\n",
        "#11)\n",
        "#critério = a coluna 'preg' será substituida pela nova coluna chamada 'gerp', onde cada valor presente na coluna 'preg' será substituido pela quantidade de vezes que ele se repete na coluna 'gerp'\n",
        "dataframe[\"'gerp'\"] = dataframe[\"'preg'\"].map({0:111,1:135,2:103,3:75,4:68,5:57,6:50,7:45,8:38,9:28,10:24,11:11,12:9,13:10,14:2,15:1,17:1})\n",
        "dataframe.drop([\"'preg'\"],axis=1,inplace = True)\n",
        "#display(dataframe)\n",
        "\n",
        "#12)\n",
        "dataframe.to_csv('/drive/MyDrive/pratica1 - classificacao/diabetes/novo_diabetes.csv')\n",
        "\n",
        "#13)\n",
        "dataframe.to_json('/drive/MyDrive/pratica1 - classificacao/diabetes/novoj_diabetes.json')\n",
        "\n",
        "#14)\n",
        "#exportei mas não faço a minima ideia de como mostrar para vocês \n",
        "\n",
        "\n"
      ]
    },
    {
      "cell_type": "code",
      "source": [],
      "metadata": {
        "id": "Iwkb3saTcokS"
      },
      "execution_count": null,
      "outputs": []
    },
    {
      "cell_type": "code",
      "source": [],
      "metadata": {
        "id": "6v-gbo7kd_LT"
      },
      "execution_count": null,
      "outputs": []
    },
    {
      "cell_type": "markdown",
      "source": [
        "def toma ():\n",
        "  contador = 0\n",
        "  for el in dataframe:\n",
        "    if el == 0:\n",
        "      novo1 = dataframe.drop(contador,axis = 0)\n",
        "      contador += 1\n",
        "    else:\n",
        "      contador += 1\n",
        "  return novo1\n",
        "\n",
        "display(toma())\n"
      ],
      "metadata": {
        "id": "yTv88OOu70PA"
      }
    }
  ]
}